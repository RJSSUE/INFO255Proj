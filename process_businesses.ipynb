{
 "cells": [
  {
   "cell_type": "code",
   "execution_count": 1,
   "id": "74a4dbc7",
   "metadata": {},
   "outputs": [
    {
     "data": {
      "text/html": [
       "<div>\n",
       "<style scoped>\n",
       "    .dataframe tbody tr th:only-of-type {\n",
       "        vertical-align: middle;\n",
       "    }\n",
       "\n",
       "    .dataframe tbody tr th {\n",
       "        vertical-align: top;\n",
       "    }\n",
       "\n",
       "    .dataframe thead th {\n",
       "        text-align: right;\n",
       "    }\n",
       "</style>\n",
       "<table border=\"1\" class=\"dataframe\">\n",
       "  <thead>\n",
       "    <tr style=\"text-align: right;\">\n",
       "      <th></th>\n",
       "      <th>id</th>\n",
       "      <th>name</th>\n",
       "      <th>price</th>\n",
       "      <th>city</th>\n",
       "      <th>state</th>\n",
       "      <th>zip_code</th>\n",
       "    </tr>\n",
       "  </thead>\n",
       "  <tbody>\n",
       "    <tr>\n",
       "      <th>0</th>\n",
       "      <td>QoinB1-_xTQQPS5_jNqoQQ</td>\n",
       "      <td>LASO</td>\n",
       "      <td>$$</td>\n",
       "      <td>American Canyon</td>\n",
       "      <td>CA</td>\n",
       "      <td>94503</td>\n",
       "    </tr>\n",
       "    <tr>\n",
       "      <th>1</th>\n",
       "      <td>nYsjOjk3eIcLEQGpNvKigQ</td>\n",
       "      <td>La Strada</td>\n",
       "      <td>$$</td>\n",
       "      <td>American Canyon</td>\n",
       "      <td>CA</td>\n",
       "      <td>94503</td>\n",
       "    </tr>\n",
       "    <tr>\n",
       "      <th>2</th>\n",
       "      <td>khT8t8GzOoEE6C1dj38GIg</td>\n",
       "      <td>Le Paris Artisan &amp; Gourmet Cafe</td>\n",
       "      <td>$$</td>\n",
       "      <td>American Canyon</td>\n",
       "      <td>CA</td>\n",
       "      <td>94503</td>\n",
       "    </tr>\n",
       "    <tr>\n",
       "      <th>3</th>\n",
       "      <td>CSYX9lbeXSqIJTh7GY3PdA</td>\n",
       "      <td>Ristorante Pasta D'oro</td>\n",
       "      <td>$$</td>\n",
       "      <td>American Canyon</td>\n",
       "      <td>CA</td>\n",
       "      <td>94503</td>\n",
       "    </tr>\n",
       "    <tr>\n",
       "      <th>4</th>\n",
       "      <td>vXCe-5mZ-Vwj9SFyUDUUCA</td>\n",
       "      <td>Maya Thai House</td>\n",
       "      <td>$$</td>\n",
       "      <td>Vallejo</td>\n",
       "      <td>CA</td>\n",
       "      <td>94590</td>\n",
       "    </tr>\n",
       "  </tbody>\n",
       "</table>\n",
       "</div>"
      ],
      "text/plain": [
       "                       id                             name price  \\\n",
       "0  QoinB1-_xTQQPS5_jNqoQQ                             LASO    $$   \n",
       "1  nYsjOjk3eIcLEQGpNvKigQ                        La Strada    $$   \n",
       "2  khT8t8GzOoEE6C1dj38GIg  Le Paris Artisan & Gourmet Cafe    $$   \n",
       "3  CSYX9lbeXSqIJTh7GY3PdA           Ristorante Pasta D'oro    $$   \n",
       "4  vXCe-5mZ-Vwj9SFyUDUUCA                  Maya Thai House    $$   \n",
       "\n",
       "              city state zip_code  \n",
       "0  American Canyon    CA    94503  \n",
       "1  American Canyon    CA    94503  \n",
       "2  American Canyon    CA    94503  \n",
       "3  American Canyon    CA    94503  \n",
       "4          Vallejo    CA    94590  "
      ]
     },
     "execution_count": 1,
     "metadata": {},
     "output_type": "execute_result"
    }
   ],
   "source": [
    "import pandas as pd\n",
    "import numpy as np\n",
    "\n",
    "df = pd.read_csv('./data/businesses.csv')\n",
    "df.head()"
   ]
  },
  {
   "cell_type": "code",
   "execution_count": 2,
   "id": "46c44f80",
   "metadata": {},
   "outputs": [
    {
     "data": {
      "text/plain": [
       "(4907, 6)"
      ]
     },
     "execution_count": 2,
     "metadata": {},
     "output_type": "execute_result"
    }
   ],
   "source": [
    "df.shape"
   ]
  },
  {
   "cell_type": "code",
   "execution_count": 4,
   "id": "7bc31c96",
   "metadata": {},
   "outputs": [
    {
     "data": {
      "text/plain": [
       "(4459, 6)"
      ]
     },
     "execution_count": 4,
     "metadata": {},
     "output_type": "execute_result"
    }
   ],
   "source": [
    "df_no_dup = df.drop_duplicates(subset='id', keep=\"first\")\n",
    "df_no_dup.shape"
   ]
  },
  {
   "cell_type": "code",
   "execution_count": 10,
   "id": "510631c4",
   "metadata": {},
   "outputs": [
    {
     "name": "stderr",
     "output_type": "stream",
     "text": [
      "/var/folders/px/cj6_znpx779d6tpgb5dhmhvc0000gn/T/ipykernel_36582/137796261.py:1: SettingWithCopyWarning: \n",
      "A value is trying to be set on a copy of a slice from a DataFrame.\n",
      "Try using .loc[row_indexer,col_indexer] = value instead\n",
      "\n",
      "See the caveats in the documentation: https://pandas.pydata.org/pandas-docs/stable/user_guide/indexing.html#returning-a-view-versus-a-copy\n",
      "  df_no_dup['price_numeric'] = df_no_dup['price'].str.len()\n"
     ]
    },
    {
     "data": {
      "text/html": [
       "<div>\n",
       "<style scoped>\n",
       "    .dataframe tbody tr th:only-of-type {\n",
       "        vertical-align: middle;\n",
       "    }\n",
       "\n",
       "    .dataframe tbody tr th {\n",
       "        vertical-align: top;\n",
       "    }\n",
       "\n",
       "    .dataframe thead th {\n",
       "        text-align: right;\n",
       "    }\n",
       "</style>\n",
       "<table border=\"1\" class=\"dataframe\">\n",
       "  <thead>\n",
       "    <tr style=\"text-align: right;\">\n",
       "      <th></th>\n",
       "      <th>id</th>\n",
       "      <th>name</th>\n",
       "      <th>price</th>\n",
       "      <th>city</th>\n",
       "      <th>state</th>\n",
       "      <th>zip_code</th>\n",
       "      <th>price_numeric</th>\n",
       "    </tr>\n",
       "  </thead>\n",
       "  <tbody>\n",
       "    <tr>\n",
       "      <th>0</th>\n",
       "      <td>QoinB1-_xTQQPS5_jNqoQQ</td>\n",
       "      <td>LASO</td>\n",
       "      <td>$$</td>\n",
       "      <td>American Canyon</td>\n",
       "      <td>CA</td>\n",
       "      <td>94503</td>\n",
       "      <td>2.0</td>\n",
       "    </tr>\n",
       "    <tr>\n",
       "      <th>1</th>\n",
       "      <td>nYsjOjk3eIcLEQGpNvKigQ</td>\n",
       "      <td>La Strada</td>\n",
       "      <td>$$</td>\n",
       "      <td>American Canyon</td>\n",
       "      <td>CA</td>\n",
       "      <td>94503</td>\n",
       "      <td>2.0</td>\n",
       "    </tr>\n",
       "    <tr>\n",
       "      <th>2</th>\n",
       "      <td>khT8t8GzOoEE6C1dj38GIg</td>\n",
       "      <td>Le Paris Artisan &amp; Gourmet Cafe</td>\n",
       "      <td>$$</td>\n",
       "      <td>American Canyon</td>\n",
       "      <td>CA</td>\n",
       "      <td>94503</td>\n",
       "      <td>2.0</td>\n",
       "    </tr>\n",
       "    <tr>\n",
       "      <th>3</th>\n",
       "      <td>CSYX9lbeXSqIJTh7GY3PdA</td>\n",
       "      <td>Ristorante Pasta D'oro</td>\n",
       "      <td>$$</td>\n",
       "      <td>American Canyon</td>\n",
       "      <td>CA</td>\n",
       "      <td>94503</td>\n",
       "      <td>2.0</td>\n",
       "    </tr>\n",
       "    <tr>\n",
       "      <th>4</th>\n",
       "      <td>vXCe-5mZ-Vwj9SFyUDUUCA</td>\n",
       "      <td>Maya Thai House</td>\n",
       "      <td>$$</td>\n",
       "      <td>Vallejo</td>\n",
       "      <td>CA</td>\n",
       "      <td>94590</td>\n",
       "      <td>2.0</td>\n",
       "    </tr>\n",
       "  </tbody>\n",
       "</table>\n",
       "</div>"
      ],
      "text/plain": [
       "                       id                             name price  \\\n",
       "0  QoinB1-_xTQQPS5_jNqoQQ                             LASO    $$   \n",
       "1  nYsjOjk3eIcLEQGpNvKigQ                        La Strada    $$   \n",
       "2  khT8t8GzOoEE6C1dj38GIg  Le Paris Artisan & Gourmet Cafe    $$   \n",
       "3  CSYX9lbeXSqIJTh7GY3PdA           Ristorante Pasta D'oro    $$   \n",
       "4  vXCe-5mZ-Vwj9SFyUDUUCA                  Maya Thai House    $$   \n",
       "\n",
       "              city state zip_code  price_numeric  \n",
       "0  American Canyon    CA    94503            2.0  \n",
       "1  American Canyon    CA    94503            2.0  \n",
       "2  American Canyon    CA    94503            2.0  \n",
       "3  American Canyon    CA    94503            2.0  \n",
       "4          Vallejo    CA    94590            2.0  "
      ]
     },
     "execution_count": 10,
     "metadata": {},
     "output_type": "execute_result"
    }
   ],
   "source": [
    "df_no_dup['price_numeric'] = df_no_dup['price'].str.len()\n",
    "df_no_dup.head()"
   ]
  },
  {
   "cell_type": "code",
   "execution_count": 11,
   "id": "5bbe77a1",
   "metadata": {},
   "outputs": [],
   "source": [
    "df_no_dup.to_csv(r'./data/businesses_no_dup.csv', index=False)"
   ]
  }
 ],
 "metadata": {
  "kernelspec": {
   "display_name": "Python 3 (ipykernel)",
   "language": "python",
   "name": "python3"
  },
  "language_info": {
   "codemirror_mode": {
    "name": "ipython",
    "version": 3
   },
   "file_extension": ".py",
   "mimetype": "text/x-python",
   "name": "python",
   "nbconvert_exporter": "python",
   "pygments_lexer": "ipython3",
   "version": "3.10.7"
  }
 },
 "nbformat": 4,
 "nbformat_minor": 5
}
