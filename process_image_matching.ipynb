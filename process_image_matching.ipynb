{
  "cells": [
    {
      "cell_type": "code",
      "source": [
        "!pip install facenet-pytorch"
      ],
      "metadata": {
        "colab": {
          "base_uri": "https://localhost:8080/"
        },
        "id": "ireYlN7SVvbU",
        "outputId": "f0abe4f2-0450-4a6e-8d34-f97426b61ebd"
      },
      "id": "ireYlN7SVvbU",
      "execution_count": 1,
      "outputs": [
        {
          "output_type": "stream",
          "name": "stdout",
          "text": [
            "Looking in indexes: https://pypi.org/simple, https://us-python.pkg.dev/colab-wheels/public/simple/\n",
            "Collecting facenet-pytorch\n",
            "  Downloading facenet_pytorch-2.5.3-py3-none-any.whl (1.9 MB)\n",
            "\u001b[2K     \u001b[90m━━━━━━━━━━━━━━━━━━━━━━━━━━━━━━━━━━━━━━━━\u001b[0m \u001b[32m1.9/1.9 MB\u001b[0m \u001b[31m64.6 MB/s\u001b[0m eta \u001b[36m0:00:00\u001b[0m\n",
            "\u001b[?25hRequirement already satisfied: torchvision in /usr/local/lib/python3.10/dist-packages (from facenet-pytorch) (0.15.1+cu118)\n",
            "Requirement already satisfied: requests in /usr/local/lib/python3.10/dist-packages (from facenet-pytorch) (2.27.1)\n",
            "Requirement already satisfied: numpy in /usr/local/lib/python3.10/dist-packages (from facenet-pytorch) (1.22.4)\n",
            "Requirement already satisfied: pillow in /usr/local/lib/python3.10/dist-packages (from facenet-pytorch) (8.4.0)\n",
            "Requirement already satisfied: urllib3<1.27,>=1.21.1 in /usr/local/lib/python3.10/dist-packages (from requests->facenet-pytorch) (1.26.15)\n",
            "Requirement already satisfied: certifi>=2017.4.17 in /usr/local/lib/python3.10/dist-packages (from requests->facenet-pytorch) (2022.12.7)\n",
            "Requirement already satisfied: charset-normalizer~=2.0.0 in /usr/local/lib/python3.10/dist-packages (from requests->facenet-pytorch) (2.0.12)\n",
            "Requirement already satisfied: idna<4,>=2.5 in /usr/local/lib/python3.10/dist-packages (from requests->facenet-pytorch) (3.4)\n",
            "Requirement already satisfied: torch==2.0.0 in /usr/local/lib/python3.10/dist-packages (from torchvision->facenet-pytorch) (2.0.0+cu118)\n",
            "Requirement already satisfied: jinja2 in /usr/local/lib/python3.10/dist-packages (from torch==2.0.0->torchvision->facenet-pytorch) (3.1.2)\n",
            "Requirement already satisfied: networkx in /usr/local/lib/python3.10/dist-packages (from torch==2.0.0->torchvision->facenet-pytorch) (3.1)\n",
            "Requirement already satisfied: typing-extensions in /usr/local/lib/python3.10/dist-packages (from torch==2.0.0->torchvision->facenet-pytorch) (4.5.0)\n",
            "Requirement already satisfied: filelock in /usr/local/lib/python3.10/dist-packages (from torch==2.0.0->torchvision->facenet-pytorch) (3.12.0)\n",
            "Requirement already satisfied: triton==2.0.0 in /usr/local/lib/python3.10/dist-packages (from torch==2.0.0->torchvision->facenet-pytorch) (2.0.0)\n",
            "Requirement already satisfied: sympy in /usr/local/lib/python3.10/dist-packages (from torch==2.0.0->torchvision->facenet-pytorch) (1.11.1)\n",
            "Requirement already satisfied: lit in /usr/local/lib/python3.10/dist-packages (from triton==2.0.0->torch==2.0.0->torchvision->facenet-pytorch) (16.0.2)\n",
            "Requirement already satisfied: cmake in /usr/local/lib/python3.10/dist-packages (from triton==2.0.0->torch==2.0.0->torchvision->facenet-pytorch) (3.25.2)\n",
            "Requirement already satisfied: MarkupSafe>=2.0 in /usr/local/lib/python3.10/dist-packages (from jinja2->torch==2.0.0->torchvision->facenet-pytorch) (2.1.2)\n",
            "Requirement already satisfied: mpmath>=0.19 in /usr/local/lib/python3.10/dist-packages (from sympy->torch==2.0.0->torchvision->facenet-pytorch) (1.3.0)\n",
            "Installing collected packages: facenet-pytorch\n",
            "Successfully installed facenet-pytorch-2.5.3\n"
          ]
        }
      ]
    },
    {
      "cell_type": "code",
      "source": [
        "from google.colab import drive\n",
        "drive.mount('/content/drive')"
      ],
      "metadata": {
        "colab": {
          "base_uri": "https://localhost:8080/"
        },
        "id": "z4nTJJKlXMsn",
        "outputId": "d18f95a4-06da-410b-9d7e-6331b8eaad24"
      },
      "id": "z4nTJJKlXMsn",
      "execution_count": 11,
      "outputs": [
        {
          "output_type": "stream",
          "name": "stdout",
          "text": [
            "Drive already mounted at /content/drive; to attempt to forcibly remount, call drive.mount(\"/content/drive\", force_remount=True).\n"
          ]
        }
      ]
    },
    {
      "cell_type": "code",
      "source": [
        "import pandas as pd\n",
        "merged_df = pd.read_csv('drive/MyDrive/merged.csv')"
      ],
      "metadata": {
        "id": "UDxx-G4vWPMe"
      },
      "id": "UDxx-G4vWPMe",
      "execution_count": 10,
      "outputs": []
    },
    {
      "cell_type": "code",
      "source": [
        "import requests\n",
        "from PIL import Image, UnidentifiedImageError\n",
        "from io import BytesIO\n",
        "import numpy as np\n",
        "from skimage import metrics\n",
        "import torch\n",
        "import torchvision.transforms as transforms\n",
        "from facenet_pytorch import MTCNN, InceptionResnetV1\n",
        "device = torch.device('cuda' if torch.cuda.is_available() else 'cpu')\n",
        "\n",
        "# Initialize face detection model\n",
        "mtcnn = MTCNN(keep_all=True, device=device)\n",
        "\n",
        "# Initialize face recognition model\n",
        "resnet = InceptionResnetV1(pretrained='vggface2').eval().to(device)\n",
        "\n",
        "# Define function to get facial features from image URL\n",
        "def get_face_features(url):\n",
        "    \n",
        "    # Download image from URL and convert to PyTorch tensor\n",
        "    img = transforms.ToTensor()(Image.open(BytesIO(requests.get(url).content)).convert('RGB'))\n",
        "    try:\n",
        "        # Use MTCNN to detect face in image\n",
        "        faces, _ = mtcnn(img)\n",
        "    except (RuntimeError, IndexError):\n",
        "        return None\n",
        "    \n",
        "    # Return None if no face detected\n",
        "    if faces is None:\n",
        "        return None\n",
        "    \n",
        "    # Use FaceNet to extract facial features from detected face\n",
        "    face = faces[0].to(device)\n",
        "    with torch.no_grad():\n",
        "        features = resnet(face.unsqueeze(0)).cpu().numpy()\n",
        "    \n",
        "    return features.flatten()\n",
        "   \n",
        "\n",
        "# Define function to compare facial features and determine if images match\n",
        "def compare_faces(url1, url2):\n",
        "    # Get facial features from each image URL\n",
        "    features1 = get_face_features(url1)\n",
        "    features2 = get_face_features(url2)\n",
        "    \n",
        "    # Return False if face not detected in one or both images\n",
        "    if features1 is None or features2 is None:\n",
        "        return None\n",
        "    \n",
        "    # Calculate cosine similarity between facial features\n",
        "    similarity = np.dot(features1, features2) / (np.linalg.norm(features1) * np.linalg.norm(features2))\n",
        "    \n",
        "    # Return True if similarity is above threshold, False otherwise\n",
        "    return similarity\n",
        "\n",
        "merged_df['image_match_ssim'] = None\n",
        "merged_df['facial_recognition'] = None\n",
        "size = (550, 723)\n",
        "for index, row in merged_df.iterrows():\n",
        "    url1 = row['first_photo_url'] # yelp image\n",
        "    url2 = row['user_image_url'] # tinder image\n",
        "    if pd.isna(url1) or pd.isna(url2):\n",
        "        continue\n",
        "    try:\n",
        "        img1 = Image.open(BytesIO(requests.get(url1).content)).resize(size)\n",
        "        img2 = Image.open(BytesIO(requests.get(url2).content)).resize(size)\n",
        "        arr1 = np.array(img1)\n",
        "        arr2 = np.array(img2)\n",
        "        if arr1.shape != arr2.shape:\n",
        "            continue\n",
        "        ssim_score = metrics.structural_similarity(arr1, arr2, win_size=3, data_range=arr1.max() - arr1.min(), multichannel=True)\n",
        "        merged_df.at[index, 'image_match'] = ssim_score\n",
        "        merged_df.at[index, 'facial_recognition'] = compare_faces(url1, url2)\n",
        "    except (OSError, UnidentifiedImageError, IndexError):\n",
        "        continue"
      ],
      "metadata": {
        "colab": {
          "base_uri": "https://localhost:8080/"
        },
        "id": "9gfnvw09U91Q",
        "outputId": "9f52d688-4f34-4d68-90c4-829528ae665c"
      },
      "id": "9gfnvw09U91Q",
      "execution_count": null,
      "outputs": [
        {
          "output_type": "stream",
          "name": "stderr",
          "text": [
            "<ipython-input-20-49cbd85d1abd>:71: FutureWarning: `multichannel` is a deprecated argument name for `structural_similarity`. It will be removed in version 1.0. Please use `channel_axis` instead.\n",
            "  ssim_score = metrics.structural_similarity(arr1, arr2, win_size=3, data_range=arr1.max() - arr1.min(), multichannel=True)\n"
          ]
        }
      ]
    },
    {
      "cell_type": "code",
      "source": [
        "merged_df.to_csv('drive/MyDrive/image_similarity.csv')"
      ],
      "metadata": {
        "id": "WR06KTOIoXv1"
      },
      "id": "WR06KTOIoXv1",
      "execution_count": null,
      "outputs": []
    }
  ],
  "metadata": {
    "kernelspec": {
      "display_name": "Python 3 (ipykernel)",
      "language": "python",
      "name": "python3"
    },
    "language_info": {
      "codemirror_mode": {
        "name": "ipython",
        "version": 3
      },
      "file_extension": ".py",
      "mimetype": "text/x-python",
      "name": "python",
      "nbconvert_exporter": "python",
      "pygments_lexer": "ipython3",
      "version": "3.9.5"
    },
    "toc": {
      "base_numbering": 1,
      "nav_menu": {},
      "number_sections": true,
      "sideBar": true,
      "skip_h1_title": false,
      "title_cell": "Table of Contents",
      "title_sidebar": "Contents",
      "toc_cell": false,
      "toc_position": {},
      "toc_section_display": true,
      "toc_window_display": false
    },
    "varInspector": {
      "cols": {
        "lenName": 16,
        "lenType": 16,
        "lenVar": 40
      },
      "kernels_config": {
        "python": {
          "delete_cmd_postfix": "",
          "delete_cmd_prefix": "del ",
          "library": "var_list.py",
          "varRefreshCmd": "print(var_dic_list())"
        },
        "r": {
          "delete_cmd_postfix": ") ",
          "delete_cmd_prefix": "rm(",
          "library": "var_list.r",
          "varRefreshCmd": "cat(var_dic_list()) "
        }
      },
      "types_to_exclude": [
        "module",
        "function",
        "builtin_function_or_method",
        "instance",
        "_Feature"
      ],
      "window_display": false
    },
    "colab": {
      "provenance": []
    },
    "accelerator": "GPU",
    "gpuClass": "standard"
  },
  "nbformat": 4,
  "nbformat_minor": 5
}