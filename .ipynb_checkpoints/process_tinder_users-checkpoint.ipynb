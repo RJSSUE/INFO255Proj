{
 "cells": [
  {
   "cell_type": "code",
   "execution_count": 18,
   "id": "adf67b11",
   "metadata": {},
   "outputs": [
    {
     "data": {
      "text/html": [
       "<div>\n",
       "<style scoped>\n",
       "    .dataframe tbody tr th:only-of-type {\n",
       "        vertical-align: middle;\n",
       "    }\n",
       "\n",
       "    .dataframe tbody tr th {\n",
       "        vertical-align: top;\n",
       "    }\n",
       "\n",
       "    .dataframe thead th {\n",
       "        text-align: right;\n",
       "    }\n",
       "</style>\n",
       "<table border=\"1\" class=\"dataframe\">\n",
       "  <thead>\n",
       "    <tr style=\"text-align: right;\">\n",
       "      <th></th>\n",
       "      <th>user_id</th>\n",
       "      <th>bio</th>\n",
       "      <th>bd</th>\n",
       "      <th>name</th>\n",
       "      <th>gender</th>\n",
       "      <th>city</th>\n",
       "      <th>distance</th>\n",
       "      <th>company</th>\n",
       "      <th>job_title</th>\n",
       "      <th>school</th>\n",
       "      <th>first_photo_url</th>\n",
       "    </tr>\n",
       "  </thead>\n",
       "  <tbody>\n",
       "    <tr>\n",
       "      <th>0</th>\n",
       "      <td>63bf9ad67556000100e78129</td>\n",
       "      <td>I'm brunette now :) \\n5'9</td>\n",
       "      <td>2001-04-30T03:39:57.580Z</td>\n",
       "      <td>Naz</td>\n",
       "      <td>not displayed</td>\n",
       "      <td>NaN</td>\n",
       "      <td>39</td>\n",
       "      <td>NaN</td>\n",
       "      <td>NaN</td>\n",
       "      <td>Stanford University</td>\n",
       "      <td>https://images-ssl.gotinder.com/u/8vn4hgikupbs...</td>\n",
       "    </tr>\n",
       "    <tr>\n",
       "      <th>1</th>\n",
       "      <td>644354c9ab48a101000da7b7</td>\n",
       "      <td>yoo. 🇲🇽🩺 I also make the best espresso martini.🍸</td>\n",
       "      <td>1997-04-30T03:39:57.576Z</td>\n",
       "      <td>Justin</td>\n",
       "      <td>not displayed</td>\n",
       "      <td>American Canyon</td>\n",
       "      <td>14</td>\n",
       "      <td>NaN</td>\n",
       "      <td>Med Student</td>\n",
       "      <td>University of San Diego</td>\n",
       "      <td>https://images-ssl.gotinder.com/u/vWhoAqDTW9Pg...</td>\n",
       "    </tr>\n",
       "    <tr>\n",
       "      <th>2</th>\n",
       "      <td>640ea8f4e433720100317771</td>\n",
       "      <td>Ready for new adventures. Looking for someone ...</td>\n",
       "      <td>1993-04-30T03:39:57.576Z</td>\n",
       "      <td>Michael</td>\n",
       "      <td>not displayed</td>\n",
       "      <td>NaN</td>\n",
       "      <td>1</td>\n",
       "      <td>Anonymous</td>\n",
       "      <td>Works at</td>\n",
       "      <td>Contra Costa College</td>\n",
       "      <td>https://images-ssl.gotinder.com/u/3wGPXxM7Stau...</td>\n",
       "    </tr>\n",
       "    <tr>\n",
       "      <th>3</th>\n",
       "      <td>6420e4daeac7d9010099e469</td>\n",
       "      <td>I am awful at these things</td>\n",
       "      <td>1998-04-30T03:39:57.581Z</td>\n",
       "      <td>Garrett</td>\n",
       "      <td>not displayed</td>\n",
       "      <td>NaN</td>\n",
       "      <td>10000</td>\n",
       "      <td>NaN</td>\n",
       "      <td>NaN</td>\n",
       "      <td>NaN</td>\n",
       "      <td>https://images-ssl.gotinder.com/u/2Ci9PgurfR6L...</td>\n",
       "    </tr>\n",
       "    <tr>\n",
       "      <th>4</th>\n",
       "      <td>6414eb166f0437010041985c</td>\n",
       "      <td>UCB Chemistry :)\\nLeast photogenic person you’...</td>\n",
       "      <td>2000-04-30T03:39:57.581Z</td>\n",
       "      <td>Tanner</td>\n",
       "      <td>not displayed</td>\n",
       "      <td>NaN</td>\n",
       "      <td>8</td>\n",
       "      <td>NaN</td>\n",
       "      <td>Graduate Student</td>\n",
       "      <td>University of California, Berkeley</td>\n",
       "      <td>https://images-ssl.gotinder.com/u/jtQE7ykFoeLZ...</td>\n",
       "    </tr>\n",
       "  </tbody>\n",
       "</table>\n",
       "</div>"
      ],
      "text/plain": [
       "                    user_id  \\\n",
       "0  63bf9ad67556000100e78129   \n",
       "1  644354c9ab48a101000da7b7   \n",
       "2  640ea8f4e433720100317771   \n",
       "3  6420e4daeac7d9010099e469   \n",
       "4  6414eb166f0437010041985c   \n",
       "\n",
       "                                                 bio  \\\n",
       "0                          I'm brunette now :) \\n5'9   \n",
       "1   yoo. 🇲🇽🩺 I also make the best espresso martini.🍸   \n",
       "2  Ready for new adventures. Looking for someone ...   \n",
       "3                         I am awful at these things   \n",
       "4  UCB Chemistry :)\\nLeast photogenic person you’...   \n",
       "\n",
       "                         bd     name         gender             city  \\\n",
       "0  2001-04-30T03:39:57.580Z      Naz  not displayed              NaN   \n",
       "1  1997-04-30T03:39:57.576Z   Justin  not displayed  American Canyon   \n",
       "2  1993-04-30T03:39:57.576Z  Michael  not displayed              NaN   \n",
       "3  1998-04-30T03:39:57.581Z  Garrett  not displayed              NaN   \n",
       "4  2000-04-30T03:39:57.581Z   Tanner  not displayed              NaN   \n",
       "\n",
       "   distance    company         job_title                              school  \\\n",
       "0        39        NaN               NaN                 Stanford University   \n",
       "1        14        NaN       Med Student             University of San Diego   \n",
       "2         1  Anonymous          Works at                Contra Costa College   \n",
       "3     10000        NaN               NaN                                 NaN   \n",
       "4         8        NaN  Graduate Student  University of California, Berkeley   \n",
       "\n",
       "                                     first_photo_url  \n",
       "0  https://images-ssl.gotinder.com/u/8vn4hgikupbs...  \n",
       "1  https://images-ssl.gotinder.com/u/vWhoAqDTW9Pg...  \n",
       "2  https://images-ssl.gotinder.com/u/3wGPXxM7Stau...  \n",
       "3  https://images-ssl.gotinder.com/u/2Ci9PgurfR6L...  \n",
       "4  https://images-ssl.gotinder.com/u/jtQE7ykFoeLZ...  "
      ]
     },
     "execution_count": 18,
     "metadata": {},
     "output_type": "execute_result"
    }
   ],
   "source": [
    "import pandas as pd\n",
    "import numpy as np\n",
    "\n",
    "df = pd.read_csv('tinder_users.csv')\n",
    "df.head()"
   ]
  },
  {
   "cell_type": "code",
   "execution_count": 19,
   "id": "786cae86",
   "metadata": {},
   "outputs": [
    {
     "data": {
      "text/plain": [
       "(4405, 11)"
      ]
     },
     "execution_count": 19,
     "metadata": {},
     "output_type": "execute_result"
    }
   ],
   "source": [
    "df.shape"
   ]
  },
  {
   "cell_type": "code",
   "execution_count": 20,
   "id": "ac98ab4c",
   "metadata": {},
   "outputs": [
    {
     "data": {
      "text/plain": [
       "(1123, 11)"
      ]
     },
     "execution_count": 20,
     "metadata": {},
     "output_type": "execute_result"
    }
   ],
   "source": [
    "# Remove duplicates\n",
    "df_no_dup = df.drop_duplicates(subset='user_id', keep=\"first\")\n",
    "df_no_dup.shape"
   ]
  },
  {
   "cell_type": "code",
   "execution_count": 21,
   "id": "deae3d0a",
   "metadata": {},
   "outputs": [],
   "source": [
    "df_no_dup.to_csv(r'tinder_users_no_dup.csv', index=False)"
   ]
  },
  {
   "cell_type": "code",
   "execution_count": 37,
   "id": "4dd93b70",
   "metadata": {},
   "outputs": [
    {
     "data": {
      "text/plain": [
       "array([nan, 'American Canyon', 'San Francisco', 'Salem', 'Oakland',\n",
       "       'Mountain View', 'Daly City', 'Pleasanton', 'San Jose',\n",
       "       'Santa Clara', 'Berkeley', 'Sunnyvale', 'San Pablo', 'Petaluma',\n",
       "       'Richmond', 'San Ramon', 'Denver', 'San Mateo', 'Milpitas',\n",
       "       'Hayward', 'Fairfield', 'Santa Rosa', 'Seattle', 'Kodiak',\n",
       "       'Los Gatos', 'Pinole', 'San Bruno', 'Novato', 'Napa', 'Menlo Park',\n",
       "       'Sacramento', 'Pleasant Hill', 'Lockeford', 'Foster City',\n",
       "       'Albany', 'Cotati', 'Gotham', 'Crockett', 'El Cerrito',\n",
       "       'South San Francisco', 'Vacaville', 'Larkspur', 'Fremont',\n",
       "       'Jacksonville', 'San Diego', 'San Leandro', 'Chico', 'Dallas',\n",
       "       'Pittsburg', 'Alameda', 'İstanbul', 'Morgantown', 'Lafayette',\n",
       "       'Citrus Heights', 'Rio Vista', 'Antioch', 'Concord',\n",
       "       'Dillon Beach', 'Stockton', 'Hercules', 'Cheney', 'Sonoma',\n",
       "       'Atherton', 'Half Moon Bay', 'Perth', 'Houston', 'El Sobrante',\n",
       "       'Gilroy', 'Point Reyes Station', 'Emeryville', 'Rodeo',\n",
       "       'Burlingame', 'Brunswick', 'New York', 'Boulder', 'Union City',\n",
       "       'Walnut Creek', 'Hell', 'San Anselmo', 'San Rafael', 'Palo Alto',\n",
       "       'Dublin', 'Tracy', 'Garden Valley', 'South Lake Tahoe', 'San José',\n",
       "       'Redwood City', 'Towson', 'Boston', 'Martinez', 'Davis', 'Benicia',\n",
       "       'Sebastopol', 'Santa Cruz', 'Guanajuato', 'München', 'Leoben',\n",
       "       'Clearlake Oaks', 'Eugene', 'Berlin', 'Riverside', 'Newark',\n",
       "       'Vallejo', 'Atlanta', 'Soda Springs', 'Hanover', 'Burnaby', 'Caen',\n",
       "       'Washington'], dtype=object)"
      ]
     },
     "execution_count": 37,
     "metadata": {},
     "output_type": "execute_result"
    }
   ],
   "source": [
    "# Get a list of unique cities\n",
    "cities = df_no_dup.city.unique()\n",
    "cities"
   ]
  },
  {
   "cell_type": "code",
   "execution_count": 38,
   "id": "ec699555",
   "metadata": {},
   "outputs": [
    {
     "data": {
      "text/plain": [
       "array(['American Canyon', 'San Francisco', 'Salem', 'Oakland',\n",
       "       'Mountain View', 'Daly City', 'Pleasanton', 'San Jose',\n",
       "       'Santa Clara', 'Berkeley', 'Sunnyvale', 'San Pablo', 'Petaluma',\n",
       "       'Richmond', 'San Ramon', 'Denver', 'San Mateo', 'Milpitas',\n",
       "       'Hayward', 'Fairfield', 'Santa Rosa', 'Seattle', 'Kodiak',\n",
       "       'Los Gatos', 'Pinole', 'San Bruno', 'Novato', 'Napa', 'Menlo Park',\n",
       "       'Sacramento', 'Pleasant Hill', 'Lockeford', 'Foster City',\n",
       "       'Albany', 'Cotati', 'Gotham', 'Crockett', 'El Cerrito',\n",
       "       'South San Francisco', 'Vacaville', 'Larkspur', 'Fremont',\n",
       "       'Jacksonville', 'San Diego', 'San Leandro', 'Chico', 'Dallas',\n",
       "       'Pittsburg', 'Alameda', 'İstanbul', 'Morgantown', 'Lafayette',\n",
       "       'Citrus Heights', 'Rio Vista', 'Antioch', 'Concord',\n",
       "       'Dillon Beach', 'Stockton', 'Hercules', 'Cheney', 'Sonoma',\n",
       "       'Atherton', 'Half Moon Bay', 'Perth', 'Houston', 'El Sobrante',\n",
       "       'Gilroy', 'Point Reyes Station', 'Emeryville', 'Rodeo',\n",
       "       'Burlingame', 'Brunswick', 'New York', 'Boulder', 'Union City',\n",
       "       'Walnut Creek', 'Hell', 'San Anselmo', 'San Rafael', 'Palo Alto',\n",
       "       'Dublin', 'Tracy', 'Garden Valley', 'South Lake Tahoe', 'San José',\n",
       "       'Redwood City', 'Towson', 'Boston', 'Martinez', 'Davis', 'Benicia',\n",
       "       'Sebastopol', 'Santa Cruz', 'Guanajuato', 'München', 'Leoben',\n",
       "       'Clearlake Oaks', 'Eugene', 'Berlin', 'Riverside', 'Newark',\n",
       "       'Vallejo', 'Atlanta', 'Soda Springs', 'Hanover', 'Burnaby', 'Caen',\n",
       "       'Washington'], dtype=object)"
      ]
     },
     "execution_count": 38,
     "metadata": {},
     "output_type": "execute_result"
    }
   ],
   "source": [
    "cities_non_null = cities[1:]\n",
    "cities_non_null"
   ]
  },
  {
   "cell_type": "code",
   "execution_count": 42,
   "id": "f8027066",
   "metadata": {},
   "outputs": [],
   "source": [
    "cities_df = pd.DataFrame(cities_non_null)\n",
    "cities_df.to_csv(r'cities.csv', index=False)"
   ]
  }
 ],
 "metadata": {
  "kernelspec": {
   "display_name": "Python 3 (ipykernel)",
   "language": "python",
   "name": "python3"
  },
  "language_info": {
   "codemirror_mode": {
    "name": "ipython",
    "version": 3
   },
   "file_extension": ".py",
   "mimetype": "text/x-python",
   "name": "python",
   "nbconvert_exporter": "python",
   "pygments_lexer": "ipython3",
   "version": "3.9.5"
  },
  "toc": {
   "base_numbering": 1,
   "nav_menu": {},
   "number_sections": true,
   "sideBar": true,
   "skip_h1_title": false,
   "title_cell": "Table of Contents",
   "title_sidebar": "Contents",
   "toc_cell": false,
   "toc_position": {},
   "toc_section_display": true,
   "toc_window_display": false
  },
  "varInspector": {
   "cols": {
    "lenName": 16,
    "lenType": 16,
    "lenVar": 40
   },
   "kernels_config": {
    "python": {
     "delete_cmd_postfix": "",
     "delete_cmd_prefix": "del ",
     "library": "var_list.py",
     "varRefreshCmd": "print(var_dic_list())"
    },
    "r": {
     "delete_cmd_postfix": ") ",
     "delete_cmd_prefix": "rm(",
     "library": "var_list.r",
     "varRefreshCmd": "cat(var_dic_list()) "
    }
   },
   "types_to_exclude": [
    "module",
    "function",
    "builtin_function_or_method",
    "instance",
    "_Feature"
   ],
   "window_display": false
  }
 },
 "nbformat": 4,
 "nbformat_minor": 5
}
